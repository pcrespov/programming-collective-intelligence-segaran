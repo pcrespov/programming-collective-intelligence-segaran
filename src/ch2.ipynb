{
 "cells": [
  {
   "cell_type": "markdown",
   "metadata": {},
   "source": [
    "# Making Recommendations"
   ],
   "execution_count": null,
   "outputs": []
  },
  {
   "cell_type": "code",
   "execution_count": null,
   "metadata": {},
   "outputs": [],
   "source": [
    "import matplotlib.pyplot as plt\n",
    "import numpy as np\n",
    "import pandas as pd"
   ]
  },
  {
   "cell_type": "code",
   "execution_count": null,
   "metadata": {},
   "outputs": [],
   "source": [
    "from data.movies import critics, critic_names, movie_names\n",
    "import random\n",
    "\n",
    "p1, p2 = random.choices(critic_names, k=2)\n",
    "space = [ ]\n",
    "for film in movie_names:\n",
    "    try:\n",
    "        space.append( (critics[p1][film], critics[p2][film]) )\n",
    "    except KeyError: \n",
    "        # at least one of critics did not review this movie\n",
    "        pass"
   ]
  },
  {
   "cell_type": "code",
   "execution_count": null,
   "metadata": {},
   "outputs": [],
   "source": [
    "plt.plot( *list(zip(*space)), \"o\")\n",
    "plt.grid(True)\n",
    "plt.xlabel(p1)\n",
    "plt.ylabel(p2)"
   ]
  },
  {
   "cell_type": "markdown",
   "metadata": {},
   "source": [
    "## Euclidean Distance Score"
   ],
   "execution_count": null,
   "outputs": []
  },
  {
   "cell_type": "code",
   "execution_count": null,
   "metadata": {},
   "outputs": [],
   "source": [
    "from recommendations import similarity_distance\n",
    "\n",
    "similarity_distance(\"Lisa Rose\", \"Gene Seymour\", prefs=critics)"
   ]
  },
  {
   "cell_type": "code",
   "execution_count": null,
   "metadata": {},
   "outputs": [],
   "source": [
    "similarity = np.array([ [similarity_distance(p1, p2, prefs=critics) for p2 in critic_names] for p1 in critic_names ])"
   ]
  },
  {
   "cell_type": "code",
   "execution_count": null,
   "metadata": {},
   "outputs": [],
   "source": [
    "from matplotlib.image import AxesImage\n",
    "fig, ax = plt.subplots()\n",
    "\n",
    "im: AxesImage = ax.matshow(similarity, vmin=0, vmax=1.0)\n",
    "fig.colorbar(im)\n",
    "for n, name in enumerate(critic_names):\n",
    "    print(n, \"%20s\"%name, [ \"%3.2f\" % s for s in similarity[n] ])"
   ]
  },
  {
   "cell_type": "markdown",
   "metadata": {},
   "source": [
    "Now with pandas"
   ],
   "execution_count": null,
   "outputs": []
  },
  {
   "cell_type": "code",
   "execution_count": null,
   "metadata": {},
   "outputs": [],
   "source": [
    "df = pd.DataFrame(similarity)\n",
    "df.style.background_gradient()"
   ]
  },
  {
   "cell_type": "markdown",
   "metadata": {},
   "source": [
    "## Pearson Distance"
   ],
   "execution_count": null,
   "outputs": []
  },
  {
   "cell_type": "code",
   "execution_count": null,
   "metadata": {},
   "outputs": [],
   "source": [
    "from recommendations import similarity_pearson, eval_top_matches\n",
    "similarity_pearson(\"Lisa Rose\", \"Gene Seymour\", prefs=critics)"
   ]
  },
  {
   "cell_type": "markdown",
   "metadata": {},
   "source": [
    "## Ranking the Critics"
   ],
   "execution_count": null,
   "outputs": []
  },
  {
   "cell_type": "code",
   "execution_count": null,
   "metadata": {},
   "outputs": [],
   "source": [
    "eval_top_matches(\"Lisa Rose\", prefs=critics)"
   ]
  },
  {
   "cell_type": "markdown",
   "metadata": {},
   "source": [
    "## Recommending Items for User\n",
    "\n",
    "Checks similarities among users to weight rates and returns items with highest rates"
   ],
   "execution_count": null,
   "outputs": []
  },
  {
   "cell_type": "code",
   "execution_count": null,
   "metadata": {},
   "outputs": [],
   "source": [
    "from recommendations import get_recommendations, similarity_distance, similarity_pearson\n",
    "\n",
    "get_recommendations(\"Toby\", similarity=similarity_distance, prefs=critics)"
   ]
  },
  {
   "cell_type": "code",
   "execution_count": null,
   "metadata": {},
   "outputs": [],
   "source": [
    "get_recommendations(\"Toby\", prefs=critics)"
   ]
  },
  {
   "cell_type": "markdown",
   "metadata": {},
   "source": [
    "# Reverting map\n",
    "\n",
    "Now prefs will flip mapping and using the same functions will return similarities among films instead of users.  "
   ],
   "execution_count": null,
   "outputs": []
  },
  {
   "cell_type": "code",
   "execution_count": null,
   "metadata": {},
   "outputs": [],
   "source": [
    "from importlib import reload\n",
    "import recommendations\n",
    "reload(recommendations)\n",
    "from recommendations import flip_mapping, get_recommendations, eval_top_matches, get_similarity_matrix\n",
    "critics_flip = flip_mapping(critics)"
   ]
  },
  {
   "cell_type": "code",
   "execution_count": null,
   "metadata": {},
   "outputs": [],
   "source": [
    "# movies similar to superman, based on critics rating\n",
    "eval_top_matches(\"Superman Returns\", prefs=critics_flip)"
   ]
  },
  {
   "cell_type": "code",
   "execution_count": null,
   "metadata": {},
   "outputs": [],
   "source": [
    "# these are the critics that might like this movie!\n",
    "get_recommendations(\"Lady in the Water\", prefs=critics_flip)"
   ]
  },
  {
   "cell_type": "code",
   "execution_count": null,
   "metadata": {},
   "outputs": [],
   "source": [
    "# returns empty because all critics have evaluated this movie\n",
    "get_recommendations(\"Superman Returns\", prefs=critics_flip)"
   ]
  },
  {
   "cell_type": "code",
   "execution_count": null,
   "metadata": {},
   "outputs": [],
   "source": [
    "movies, matrix = get_similarity_matrix(critics_flip)\n",
    "df = pd.DataFrame(matrix, index=movies, columns=movies)\n",
    "df.style.background_gradient()"
   ]
  },
  {
   "cell_type": "code",
   "execution_count": null,
   "metadata": {},
   "outputs": [],
   "source": []
  }
 ],
 "metadata": {
  "hide_input": false,
  "kernelspec": {
   "display_name": "Python 3",
   "language": "python",
   "name": "python3"
  },
  "language_info": {
   "codemirror_mode": {
    "name": "ipython",
    "version": 3
   },
   "file_extension": ".py",
   "mimetype": "text/x-python",
   "name": "python",
   "nbconvert_exporter": "python",
   "pygments_lexer": "ipython3",
   "version": "3.8.1-final"
  },
  "toc": {
   "base_numbering": 1,
   "nav_menu": {},
   "number_sections": true,
   "sideBar": true,
   "skip_h1_title": false,
   "title_cell": "Table of Contents",
   "title_sidebar": "Contents",
   "toc_cell": false,
   "toc_position": {},
   "toc_section_display": true,
   "toc_window_display": false
  }
 },
 "nbformat": 4,
 "nbformat_minor": 4
}