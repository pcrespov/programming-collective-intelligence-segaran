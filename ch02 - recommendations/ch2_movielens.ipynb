{
 "nbformat": 4,
 "nbformat_minor": 2,
 "metadata": {
  "language_info": {
   "name": "python",
   "codemirror_mode": {
    "name": "ipython",
    "version": 3
   },
   "version": "3.8.1-final"
  },
  "orig_nbformat": 2,
  "file_extension": ".py",
  "mimetype": "text/x-python",
  "name": "python",
  "npconvert_exporter": "python",
  "pygments_lexer": "ipython3",
  "version": 3,
  "kernelspec": {
   "name": "python38164bitvenvvenv267f968e66c64147b03b89cd72b4e2e2",
   "display_name": "Python 3.8.1 64-bit ('.venv': venv)"
  }
 },
 "cells": [
  {
   "cell_type": "code",
   "execution_count": null,
   "metadata": {},
   "outputs": [],
   "source": [
    "import importlib\n",
    "import data.movielens\n",
    "importlib.reload(data.movielens)\n",
    "\n",
    "from data import movielens\n",
    "movielens.download(force=False)"
   ]
  },
  {
   "cell_type": "code",
   "execution_count": null,
   "metadata": {},
   "outputs": [],
   "source": [
    "movies_df = movielens.load(\"movies.csv\")\n",
    "ratings_df = movielens.load(\"ratings.csv\")"
   ]
  },
  {
   "cell_type": "code",
   "execution_count": null,
   "metadata": {},
   "outputs": [],
   "source": [
    "ratings_df.head()"
   ]
  },
  {
   "cell_type": "code",
   "execution_count": null,
   "metadata": {},
   "outputs": [],
   "source": [
    "movies_df.head()"
   ]
  },
  {
   "cell_type": "code",
   "execution_count": null,
   "metadata": {},
   "outputs": [],
   "source": [
    "ratings_df[0:3]"
   ]
  },
  {
   "cell_type": "code",
   "execution_count": null,
   "metadata": {},
   "outputs": [],
   "source": [
    "from faker import Faker\n",
    "from collections import defaultdict\n",
    "fake = Faker()\n",
    "\n",
    "index2user = defaultdict(fake.name) \n",
    "prefs = defaultdict(dict)\n",
    "\n",
    "for index, row in ratings_df.iterrows():\n",
    "\n",
    "    #movie = movies_df.at[ int(row[\"movieId\"])+1, \"title\"]\n",
    "    movie = int(row[\"movieId\"])\n",
    "    #user = index2user[int(row[\"userId\"])]\n",
    "    user = int(row[\"userId\"])\n",
    "\n",
    "    prefs[user][movie] = float(row['rating'])"
   ]
  },
  {
   "cell_type": "code",
   "execution_count": null,
   "metadata": {},
   "outputs": [],
   "source": [
    "from recommendations import get_recommendations\n",
    "\n",
    "user_id = 1\n",
    "recs = get_recommendations(user_id ,prefs=prefs)\n",
    "\n",
    "print(recs)\n",
    "\n",
    "[ ( f\"{score:3.2f}\",  movies_df.loc[ movies_df[\"movieId\"] == movie_id ][\"title\"] ) for score, movie_id in recs]"
   ]
  },
  {
   "cell_type": "code",
   "execution_count": null,
   "metadata": {},
   "outputs": [],
   "source": []
  },
  {
   "cell_type": "code",
   "execution_count": null,
   "metadata": {},
   "outputs": [],
   "source": [
    "movielens_prefs = {}\n",
    "ratings_fd.loc[:, [\"userId\", \"movieId\"]].to_numpy()"
   ]
  },
  {
   "cell_type": "code",
   "execution_count": null,
   "metadata": {},
   "outputs": [],
   "source": [
    "movies_df.loc[ movies_df[\"movieId\"] == 1 ][\"title\"][0]"
   ]
  },
  {
   "cell_type": "code",
   "execution_count": null,
   "metadata": {},
   "outputs": [],
   "source": []
  },
  {
   "cell_type": "code",
   "execution_count": null,
   "metadata": {},
   "outputs": [],
   "source": [
    "movies_df.loc[ movies_df[\"movieId\"] == int(row[\"movieId\"]) ]"
   ]
  }
 ]
}