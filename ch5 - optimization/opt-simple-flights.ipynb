{
 "cells": [
  {
   "cell_type": "code",
   "execution_count": 1,
   "metadata": {},
   "outputs": [],
   "source": [
    "import optimization\n",
    "from pprint import pprint"
   ]
  },
  {
   "cell_type": "code",
   "execution_count": 2,
   "metadata": {},
   "outputs": [
    {
     "name": "stdout",
     "output_type": "stream",
     "text": [
      "   Seymour       BOS  8:04-10:11 $ 95 12:08-14:05 $142\n",
      "    Franny       DAL 12:19-15:25 $342 10:51-14:16 $256\n",
      "     Zooey       CAK 10:53-13:36 $189  9:58-12:56 $249\n",
      "      Walt       MIA  9:15-12:29 $225 16:50-19:26 $304\n",
      "     Buddy       ORD 16:43-19:00 $246 10:33-13:11 $132\n",
      "       Les       OMA 11:08-13:07 $175 15:07-17:21 $129\n",
      "                                 $1272            $1212\n"
     ]
    }
   ],
   "source": [
    "s = [1,4,3,2,7,3,6,3,2,4,5,3]\n",
    "optimization.printschedule(s)"
   ]
  },
  {
   "cell_type": "code",
   "execution_count": 3,
   "metadata": {},
   "outputs": [
    {
     "data": {
      "text/plain": [
       "5285"
      ]
     },
     "execution_count": 3,
     "metadata": {},
     "output_type": "execute_result"
    }
   ],
   "source": [
    "optimization.schedulecost(s)"
   ]
  },
  {
   "cell_type": "code",
   "execution_count": 4,
   "metadata": {},
   "outputs": [
    {
     "name": "stdout",
     "output_type": "stream",
     "text": [
      "[(0, 9), (0, 9), (0, 9), (0, 9), (0, 9), (0, 9), (0, 9), (0, 9), (0, 9), (0, 9), (0, 9), (0, 9)]\n"
     ]
    }
   ],
   "source": [
    "from optimization import people, flights, destination\n",
    "\n",
    "domain = [ (0, len(flights[(origin,destination)])-1) for _,origin in people for _ in range(2)]\n",
    "print(domain)"
   ]
  },
  {
   "cell_type": "markdown",
   "metadata": {},
   "source": [
    "### random searching"
   ]
  },
  {
   "cell_type": "code",
   "execution_count": 5,
   "metadata": {},
   "outputs": [
    {
     "name": "stdout",
     "output_type": "stream",
     "text": [
      "   Seymour       BOS  9:45-11:50 $172 10:33-12:03 $ 74\n",
      "    Franny       DAL 10:30-14:57 $290 10:51-14:16 $256\n",
      "     Zooey       CAK 10:53-13:36 $189 10:32-13:16 $139\n",
      "      Walt       MIA 11:28-14:40 $248  9:25-12:46 $295\n",
      "     Buddy       ORD  9:42-11:32 $169 10:33-13:11 $132\n",
      "       Les       OMA 11:08-13:07 $175  9:31-11:43 $210\n",
      "                                 $1243            $1106\n"
     ]
    },
    {
     "data": {
      "text/plain": [
       "3294"
      ]
     },
     "execution_count": 5,
     "metadata": {},
     "output_type": "execute_result"
    }
   ],
   "source": [
    "sol1 = optimization.randomoptimize(domain, optimization.schedulecost)\n",
    "optimization.printschedule(sol1)\n",
    "optimization.schedulecost(sol1)"
   ]
  },
  {
   "cell_type": "code",
   "execution_count": 6,
   "metadata": {},
   "outputs": [
    {
     "name": "stdout",
     "output_type": "stream",
     "text": [
      "   Seymour       BOS 11:16-13:29 $ 83 10:33-12:03 $ 74\n",
      "    Franny       DAL 10:30-14:57 $290 10:51-14:16 $256\n",
      "     Zooey       CAK 10:53-13:36 $189 10:32-13:16 $139\n",
      "      Walt       MIA 11:28-14:40 $248 11:08-14:38 $262\n",
      "     Buddy       ORD 11:01-12:39 $260 12:08-14:47 $231\n",
      "       Les       OMA 12:18-14:56 $172 11:07-13:24 $171\n",
      "                                 $1242            $1133\n"
     ]
    },
    {
     "data": {
      "text/plain": [
       "2937"
      ]
     },
     "execution_count": 6,
     "metadata": {},
     "output_type": "execute_result"
    }
   ],
   "source": [
    "sol2 = optimization.randomoptimize(domain, optimization.schedulecost, num_iter=100000)\n",
    "optimization.printschedule(sol2)\n",
    "optimization.schedulecost(sol2)"
   ]
  },
  {
   "cell_type": "markdown",
   "metadata": {},
   "source": [
    "### Hill Climbing"
   ]
  },
  {
   "cell_type": "code",
   "execution_count": 7,
   "metadata": {},
   "outputs": [
    {
     "name": "stdout",
     "output_type": "stream",
     "text": [
      "   Seymour       BOS 17:11-18:30 $108 13:39-15:30 $ 74\n",
      "    Franny       DAL 13:54-18:02 $294 17:14-20:59 $277\n",
      "     Zooey       CAK 17:08-19:08 $262 13:37-15:33 $142\n",
      "      Walt       MIA 14:01-17:24 $338 15:23-18:49 $150\n",
      "     Buddy       ORD 15:58-18:40 $173 17:06-20:00 $ 95\n",
      "       Les       OMA 16:51-19:09 $147 15:07-17:21 $129\n",
      "                                 $1322            $867\n"
     ]
    },
    {
     "data": {
      "text/plain": [
       "3104"
      ]
     },
     "execution_count": 7,
     "metadata": {},
     "output_type": "execute_result"
    }
   ],
   "source": [
    "sol3 = optimization.hillclimb(domain, optimization.schedulecost)\n",
    "optimization.printschedule(sol3)\n",
    "optimization.schedulecost(sol3)"
   ]
  },
  {
   "cell_type": "code",
   "execution_count": 8,
   "metadata": {},
   "outputs": [
    {
     "name": "stdout",
     "output_type": "stream",
     "text": [
      "   Seymour       BOS 12:34-15:02 $109 10:33-12:03 $ 74\n",
      "    Franny       DAL 10:30-14:57 $290 10:51-14:16 $256\n",
      "     Zooey       CAK 10:53-13:36 $189 10:32-13:16 $139\n",
      "      Walt       MIA 11:28-14:40 $248 12:37-15:05 $170\n",
      "     Buddy       ORD 12:44-14:17 $134 10:33-13:11 $132\n",
      "       Les       OMA 11:08-13:07 $175 11:07-13:24 $171\n",
      "                                 $1145            $942\n"
     ]
    },
    {
     "data": {
      "text/plain": [
       "2591"
      ]
     },
     "execution_count": 8,
     "metadata": {},
     "output_type": "execute_result"
    }
   ],
   "source": [
    "sol4 = optimization.hillclimb(domain, optimization.schedulecost, init_sol=sol2)\n",
    "optimization.printschedule(sol4)\n",
    "optimization.schedulecost(sol4)"
   ]
  },
  {
   "cell_type": "markdown",
   "metadata": {},
   "source": [
    "### Simulated Annealing"
   ]
  },
  {
   "cell_type": "code",
   "execution_count": 9,
   "metadata": {},
   "outputs": [
    {
     "name": "stdout",
     "output_type": "stream",
     "text": [
      "   Seymour       BOS 13:40-15:37 $138 13:39-15:30 $ 74\n",
      "    Franny       DAL 13:54-18:02 $294 14:20-17:32 $332\n",
      "     Zooey       CAK 13:40-15:38 $137 15:50-18:45 $243\n",
      "      Walt       MIA 15:34-18:11 $326 14:08-16:09 $232\n",
      "     Buddy       ORD 14:22-16:32 $126 14:19-17:09 $190\n",
      "       Les       OMA 13:37-15:08 $250 15:07-17:21 $129\n",
      "                                 $1271            $1200\n"
     ]
    },
    {
     "data": {
      "text/plain": [
       "3448"
      ]
     },
     "execution_count": 9,
     "metadata": {},
     "output_type": "execute_result"
    }
   ],
   "source": [
    "sol5 = optimization.annealingoptimize(domain, optimization.schedulecost)\n",
    "optimization.printschedule(sol5)\n",
    "optimization.schedulecost(sol5)"
   ]
  },
  {
   "cell_type": "code",
   "execution_count": 11,
   "metadata": {},
   "outputs": [
    {
     "name": "stdout",
     "output_type": "stream",
     "text": [
      "   Seymour       BOS 11:16-13:29 $ 83 10:33-12:03 $ 74\n",
      "    Franny       DAL 10:30-14:57 $290 10:51-14:16 $256\n",
      "     Zooey       CAK 10:53-13:36 $189 10:32-13:16 $139\n",
      "      Walt       MIA 11:28-14:40 $248 12:37-15:05 $170\n",
      "     Buddy       ORD 12:44-14:17 $134 10:33-13:11 $132\n",
      "       Les       OMA 11:08-13:07 $175 11:07-13:24 $171\n",
      "                                 $1119            $942\n"
     ]
    },
    {
     "data": {
      "text/plain": [
       "2628"
      ]
     },
     "execution_count": 11,
     "metadata": {},
     "output_type": "execute_result"
    }
   ],
   "source": [
    "sol6 = optimization.annealingoptimize(domain, optimization.schedulecost, init_sol=sol2)\n",
    "optimization.printschedule(sol6)\n",
    "optimization.schedulecost(sol6)"
   ]
  },
  {
   "cell_type": "code",
   "execution_count": 32,
   "metadata": {},
   "outputs": [
    {
     "name": "stdout",
     "output_type": "stream",
     "text": [
      "   Seymour       BOS 11:16-13:29 $ 83 10:33-12:03 $ 74\n",
      "    Franny       DAL 10:30-14:57 $290 10:51-14:16 $256\n",
      "     Zooey       CAK 10:53-13:36 $189 10:32-13:16 $139\n",
      "      Walt       MIA 11:28-14:40 $248 11:08-14:38 $262\n",
      "     Buddy       ORD 11:01-12:39 $260 12:08-14:47 $231\n",
      "       Les       OMA 12:18-14:56 $172 11:07-13:24 $171\n",
      "                                 $1242            $1133\n"
     ]
    },
    {
     "data": {
      "text/plain": [
       "2937"
      ]
     },
     "execution_count": 32,
     "metadata": {},
     "output_type": "execute_result"
    }
   ],
   "source": [
    "sol7 = optimization.annealingoptimize(domain, optimization.schedulecost, init_sol=sol2, T=1000, cool=0.01, step=9)\n",
    "optimization.printschedule(sol7)\n",
    "optimization.schedulecost(sol7)"
   ]
  },
  {
   "cell_type": "code",
   "execution_count": null,
   "metadata": {},
   "outputs": [],
   "source": []
  }
 ],
 "metadata": {
  "hide_input": false,
  "kernelspec": {
   "display_name": "Python 3",
   "language": "python",
   "name": "python3"
  },
  "language_info": {
   "codemirror_mode": {
    "name": "ipython",
    "version": 3
   },
   "file_extension": ".py",
   "mimetype": "text/x-python",
   "name": "python",
   "nbconvert_exporter": "python",
   "pygments_lexer": "ipython3",
   "version": "3.8.1"
  },
  "toc": {
   "base_numbering": 1,
   "nav_menu": {},
   "number_sections": true,
   "sideBar": true,
   "skip_h1_title": false,
   "title_cell": "Table of Contents",
   "title_sidebar": "Contents",
   "toc_cell": false,
   "toc_position": {},
   "toc_section_display": true,
   "toc_window_display": false
  }
 },
 "nbformat": 4,
 "nbformat_minor": 4
}
