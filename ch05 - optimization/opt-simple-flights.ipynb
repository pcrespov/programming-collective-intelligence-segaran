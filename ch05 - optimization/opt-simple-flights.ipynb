{
 "cells": [
  {
   "cell_type": "code",
   "execution_count": null,
   "metadata": {},
   "outputs": [],
   "source": [
    "import optimization\n",
    "from pprint import pprint"
   ]
  },
  {
   "cell_type": "code",
   "execution_count": null,
   "metadata": {},
   "outputs": [],
   "source": [
    "s = [1,4,3,2,7,3,6,3,2,4,5,3]\n",
    "optimization.printschedule(s)"
   ]
  },
  {
   "cell_type": "code",
   "execution_count": null,
   "metadata": {},
   "outputs": [],
   "source": [
    "optimization.schedulecost(s)"
   ]
  },
  {
   "cell_type": "code",
   "execution_count": null,
   "metadata": {},
   "outputs": [],
   "source": [
    "from optimization import people, flights, destination\n",
    "\n",
    "domain = [ (0, len(flights[(origin,destination)])-1) for _,origin in people for _ in range(2)]\n",
    "print(domain)"
   ]
  },
  {
   "cell_type": "markdown",
   "metadata": {},
   "source": [
    "### random searching"
   ]
  },
  {
   "cell_type": "code",
   "execution_count": null,
   "metadata": {},
   "outputs": [],
   "source": [
    "sol1 = optimization.randomoptimize(domain, optimization.schedulecost)\n",
    "optimization.printschedule(sol1)\n",
    "optimization.schedulecost(sol1)"
   ]
  },
  {
   "cell_type": "code",
   "execution_count": null,
   "metadata": {},
   "outputs": [],
   "source": [
    "sol2 = optimization.randomoptimize(domain, optimization.schedulecost, num_iter=100000)\n",
    "optimization.printschedule(sol2)\n",
    "optimization.schedulecost(sol2)"
   ]
  },
  {
   "cell_type": "markdown",
   "metadata": {},
   "source": [
    "### Hill Climbing"
   ]
  },
  {
   "cell_type": "code",
   "execution_count": null,
   "metadata": {},
   "outputs": [],
   "source": [
    "sol3 = optimization.hillclimb(domain, optimization.schedulecost)\n",
    "optimization.printschedule(sol3)\n",
    "optimization.schedulecost(sol3)"
   ]
  },
  {
   "cell_type": "code",
   "execution_count": null,
   "metadata": {},
   "outputs": [],
   "source": [
    "sol4 = optimization.hillclimb(domain, optimization.schedulecost, init_sol=sol2)\n",
    "optimization.printschedule(sol4)\n",
    "optimization.schedulecost(sol4)"
   ]
  },
  {
   "cell_type": "markdown",
   "metadata": {},
   "source": [
    "### Simulated Annealing"
   ]
  },
  {
   "cell_type": "code",
   "execution_count": null,
   "metadata": {},
   "outputs": [],
   "source": [
    "sol5 = optimization.annealingoptimize(domain, optimization.schedulecost)\n",
    "optimization.printschedule(sol5)\n",
    "optimization.schedulecost(sol5)"
   ]
  },
  {
   "cell_type": "code",
   "execution_count": null,
   "metadata": {},
   "outputs": [],
   "source": [
    "sol6 = optimization.annealingoptimize(domain, optimization.schedulecost, init_sol=sol2)\n",
    "optimization.printschedule(sol6)\n",
    "optimization.schedulecost(sol6)"
   ]
  },
  {
   "cell_type": "code",
   "execution_count": null,
   "metadata": {},
   "outputs": [],
   "source": [
    "sol7 = optimization.annealingoptimize(domain, optimization.schedulecost, init_sol=sol2, T=1000, cool=0.01, step=9)\n",
    "optimization.printschedule(sol7)\n",
    "optimization.schedulecost(sol7)"
   ]
  },
  {
   "cell_type": "markdown",
   "metadata": {},
   "source": [
    "### Generic Algorithms"
   ]
  },
  {
   "cell_type": "code",
   "execution_count": null,
   "metadata": {},
   "outputs": [],
   "source": [
    "sol8 = optimization.geneticoptimize(domain, optimization.schedulecost, maxiter=10)\n",
    "optimization.printschedule(sol8)\n",
    "optimization.schedulecost(sol8)"
   ]
  },
  {
   "cell_type": "code",
   "execution_count": null,
   "metadata": {},
   "outputs": [],
   "source": [
    "def print_improvement():\n",
    "    best = 999999\n",
    "    besti= None\n",
    "    \n",
    "    def print_best(i, scores):\n",
    "        nonlocal best\n",
    "        nonlocal besti\n",
    "        \n",
    "        if scores[0][0] < best:\n",
    "            best = scores[0][0]\n",
    "            besti = i\n",
    "            \n",
    "            # Print current best score\n",
    "            print(i, scores[0][0])\n",
    "            \n",
    "        elif i % 100 == 0:\n",
    "            print(\".\", end=\"\")\n",
    "            \n",
    "    \n",
    "    return print_best\n",
    "\n",
    "\n",
    "sol9 = optimization.geneticoptimize(domain, optimization.schedulecost, init_pop=[sol2,], iterated_callback=print_improvement())\n",
    "print()\n",
    "optimization.printschedule(sol9)"
   ]
  },
  {
   "cell_type": "code",
   "execution_count": null,
   "metadata": {},
   "outputs": [],
   "source": [
    "from importlib import reload\n",
    "reload(optimization)"
   ]
  },
  {
   "cell_type": "code",
   "execution_count": null,
   "metadata": {},
   "outputs": [],
   "source": []
  }
 ],
 "metadata": {
  "hide_input": false,
  "kernelspec": {
   "display_name": "Python 3",
   "language": "python",
   "name": "python3"
  },
  "language_info": {
   "codemirror_mode": {
    "name": "ipython",
    "version": 3
   },
   "file_extension": ".py",
   "mimetype": "text/x-python",
   "name": "python",
   "nbconvert_exporter": "python",
   "pygments_lexer": "ipython3",
   "version": "3.8.1"
  },
  "toc": {
   "base_numbering": 1,
   "nav_menu": {},
   "number_sections": true,
   "sideBar": true,
   "skip_h1_title": false,
   "title_cell": "Table of Contents",
   "title_sidebar": "Contents",
   "toc_cell": false,
   "toc_position": {},
   "toc_section_display": true,
   "toc_window_display": false
  }
 },
 "nbformat": 4,
 "nbformat_minor": 4
}
